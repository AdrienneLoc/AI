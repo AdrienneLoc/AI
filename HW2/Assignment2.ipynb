{
  "nbformat": 4,
  "nbformat_minor": 0,
  "metadata": {
    "colab": {
      "provenance": [],
      "authorship_tag": "ABX9TyNEd57ezvkd+NNR8wKVIqT/",
      "include_colab_link": true
    },
    "kernelspec": {
      "name": "python3",
      "display_name": "Python 3"
    },
    "language_info": {
      "name": "python"
    }
  },
  "cells": [
    {
      "cell_type": "markdown",
      "metadata": {
        "id": "view-in-github",
        "colab_type": "text"
      },
      "source": [
        "<a href=\"https://colab.research.google.com/github/AdrienneLoc/AI/blob/main/HW2/Assignment2.ipynb\" target=\"_parent\"><img src=\"https://colab.research.google.com/assets/colab-badge.svg\" alt=\"Open In Colab\"/></a>"
      ]
    },
    {
      "cell_type": "code",
      "execution_count": 2,
      "metadata": {
        "colab": {
          "base_uri": "https://localhost:8080/"
        },
        "id": "aEtlTZVxJ8mh",
        "outputId": "4b80f47c-dc3c-459d-baec-0300f6e9df7d"
      },
      "outputs": [
        {
          "output_type": "stream",
          "name": "stdout",
          "text": [
            "Start State: (0, 0)\n",
            "(5, 0)\n",
            "Goal state not yet reached.\n",
            "(2, 3)\n",
            "Goal state not yet reached.\n",
            "(2, 0)\n",
            "Goal state not yet reached.\n",
            "(0, 2)\n",
            "Goal state not yet reached.\n",
            "(5, 2)\n",
            "Goal state not yet reached.\n",
            "(4, 3)\n",
            "Goal state has been reached!\n"
          ]
        }
      ],
      "source": [
        "#rule for big jug\n",
        "def fill_big_jug(big_jug, small_jug):\n",
        "  if(big_jug == 4): #to stop more rule application after the goal state has been reached\n",
        "    print(\"Goal state already reached\")\n",
        "    print(\"(\" + str(big_jug) + \", \" + str(small_jug) + \")\")\n",
        "  elif(big_jug < 5):\n",
        "    big_jug = 5\n",
        "    print(\"(\" + str(big_jug) + \", \" + str(small_jug) + \")\")\n",
        "  else:\n",
        "    print(\"Rule not applicable\")\n",
        "  return(big_jug, small_jug)\n",
        "\n",
        "#rule for small jug\n",
        "def fill_small_jug(big_jug, small_jug):\n",
        "  if(big_jug == 4): #to stop more rule application after the goal state has been reached\n",
        "    print(\"Goal state already reached\")\n",
        "    print(\"(\" + str(big_jug) + \", \" + str(small_jug) + \")\")\n",
        "  elif(small_jug < 3 and big_jug != 0):\n",
        "    while(small_jug != 3 and big_jug != 0):              #if the small_jug isn't full and if the big_jug isn't empty, then keep filling the small bucket\n",
        "      small_jug += 1\n",
        "      big_jug -= 1\n",
        "    print(\"(\" + str(big_jug) + \", \" + str(small_jug) + \")\")\n",
        "  else:\n",
        "    print(\"Rule not applicable\")\n",
        "  return(big_jug, small_jug)\n",
        "\n",
        "#rule to empty the small jug\n",
        "def empty_small_jug(big_jug, small_jug):\n",
        "  if(big_jug == 4): #to stop more rule application after the goal state has been reached\n",
        "    print(\"Goal state already reached\")\n",
        "    print(\"(\" + str(big_jug) + \", \" + str(small_jug) + \")\")\n",
        "  elif(small_jug == 3): #ensuring the small_jug is full before empty\n",
        "    small_jug = 0\n",
        "    print(\"(\" + str(big_jug) + \", \" + str(small_jug) + \")\")\n",
        "  else:\n",
        "    print(\"Rule not applicable\")\n",
        "  return(big_jug, small_jug)\n",
        "\n",
        "def check_goal_state(big_jug, small_jug):\n",
        "  if(big_jug == 4):\n",
        "    print(\"Goal state has been reached!\")\n",
        "  else:\n",
        "    print(\"Goal state not yet reached.\")\n",
        "\n",
        "class WaterJugPuzzle:\n",
        "  state = (0, 0) # start state\n",
        "  print(\"Start State:\", state)\n",
        "  state = fill_big_jug(state[0], state[1])\n",
        "  check_goal_state(state[0], state[1])\n",
        "  state = fill_small_jug(state[0], state[1])\n",
        "  check_goal_state(state[0], state[1])\n",
        "  state = empty_small_jug(state[0], state[1])\n",
        "  check_goal_state(state[0], state[1])\n",
        "  state = fill_small_jug(state[0], state[1])\n",
        "  check_goal_state(state[0], state[1])\n",
        "  state = fill_big_jug(state[0], state[1])\n",
        "  check_goal_state(state[0], state[1])\n",
        "  state = fill_small_jug(state[0], state[1])\n",
        "  check_goal_state(state[0], state[1])\n",
        "\n",
        "\n"
      ]
    }
  ]
}