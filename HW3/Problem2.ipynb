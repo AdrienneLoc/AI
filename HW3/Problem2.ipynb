{
  "nbformat": 4,
  "nbformat_minor": 0,
  "metadata": {
    "colab": {
      "provenance": [],
      "authorship_tag": "ABX9TyOsyxJfgR9uPOL6E0YqrEZK",
      "include_colab_link": true
    },
    "kernelspec": {
      "name": "python3",
      "display_name": "Python 3"
    },
    "language_info": {
      "name": "python"
    }
  },
  "cells": [
    {
      "cell_type": "markdown",
      "metadata": {
        "id": "view-in-github",
        "colab_type": "text"
      },
      "source": [
        "<a href=\"https://colab.research.google.com/github/AdrienneLoc/AI/blob/main/HW3/Problem2.ipynb\" target=\"_parent\"><img src=\"https://colab.research.google.com/assets/colab-badge.svg\" alt=\"Open In Colab\"/></a>"
      ]
    },
    {
      "cell_type": "markdown",
      "source": [
        "# Author:\n",
        "> Adrienne Loc\n",
        "# Purpose:\n",
        "\n",
        "\n",
        "> The goal of this assignment was to find immediate connections that we might have been missing. Through this assignment, the purpose was to explore BFS algorithms and understand how they work\n",
        "\n",
        "\n",
        "\n",
        "\n",
        "\n",
        "\n",
        "\n"
      ],
      "metadata": {
        "id": "igDkxmKpNsSB"
      }
    },
    {
      "cell_type": "code",
      "execution_count": 17,
      "metadata": {
        "id": "DeK9rtTmXeD6",
        "colab": {
          "base_uri": "https://localhost:8080/"
        },
        "outputId": "3ddf37a3-4d57-465d-d3a7-606e9affcdc0"
      },
      "outputs": [
        {
          "output_type": "stream",
          "name": "stdout",
          "text": [
            "Sophia Maya David "
          ]
        }
      ],
      "source": [
        "from collections import deque\n",
        "\n",
        "def PotentialFriends(G, User):\n",
        "  visited, queue = set(), deque([User])   #set visited to empty, put root in the queue\n",
        "  visited.add(User)\n",
        "  levels = {0: [],\n",
        "            1: []}    #a graph to hold immediate friends\n",
        "  countPrev = 0             #level of the current vertex being evaluated\n",
        "  countCurr = countPrev     #level of the current vertex's friends\n",
        "  while queue:\n",
        "    vertex = queue.popleft()\n",
        "    #print(vertex, end=\" \")\n",
        "    if(not(vertex == User)):\n",
        "      if(vertex not in levels[countPrev]):           #if we're done with the people we're friends with, then move to the people our friends are friends with\n",
        "        countPrev += 1\n",
        "      if(len(G[vertex]) != 0):                       #ensures that the current vertex's friends get put in the next level\n",
        "        countCurr = countPrev + 1\n",
        "    if(countPrev == 1):                #if we have reached the immediate friend connections then stop\n",
        "      break;\n",
        "    #looping to get the connections\n",
        "    for friend in G[vertex]:\n",
        "      if friend not in visited:\n",
        "        visited.add(friend)\n",
        "        queue.append(friend)\n",
        "        levels[countCurr].append(friend)\n",
        "  for friend in levels[1]:\n",
        "    print(friend, end = \" \")\n",
        "friends = {\n",
        "    'Adam': ['Maria'],\n",
        "    'Maria': ['Sophia', 'Maya', 'David', 'Adam'],\n",
        "    'Sophia': ['Maria', 'Maya'],\n",
        "    'Maya': ['David', 'Maria', 'Sophia'],\n",
        "    'David': ['Maria', 'Maya']\n",
        "}\n",
        "PotentialFriends(friends, 'Adam')\n",
        "\n"
      ]
    }
  ]
}