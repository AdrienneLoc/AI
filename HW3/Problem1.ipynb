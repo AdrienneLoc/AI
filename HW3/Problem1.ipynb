{
  "nbformat": 4,
  "nbformat_minor": 0,
  "metadata": {
    "colab": {
      "provenance": [],
      "authorship_tag": "ABX9TyOI8acrIOAmCW3jMHBaLgTS",
      "include_colab_link": true
    },
    "kernelspec": {
      "name": "python3",
      "display_name": "Python 3"
    },
    "language_info": {
      "name": "python"
    }
  },
  "cells": [
    {
      "cell_type": "markdown",
      "metadata": {
        "id": "view-in-github",
        "colab_type": "text"
      },
      "source": [
        "<a href=\"https://colab.research.google.com/github/AdrienneLoc/AI/blob/main/HW3/Problem1.ipynb\" target=\"_parent\"><img src=\"https://colab.research.google.com/assets/colab-badge.svg\" alt=\"Open In Colab\"/></a>"
      ]
    },
    {
      "cell_type": "markdown",
      "source": [
        "# Author:\n",
        "\n",
        "\n",
        "> Adrienne Loc\n",
        "# Purpose:\n",
        "\n",
        "\n",
        "> The purpose of this assignment was to explore BFS algorithms and understand how they work\n",
        "\n",
        "\n",
        "\n"
      ],
      "metadata": {
        "id": "Sz0xGF2rEGmk"
      }
    },
    {
      "cell_type": "code",
      "execution_count": 30,
      "metadata": {
        "id": "DeK9rtTmXeD6",
        "colab": {
          "base_uri": "https://localhost:8080/"
        },
        "outputId": "954b5651-e1b0-43c3-f42f-0588db924da2"
      },
      "outputs": [
        {
          "output_type": "stream",
          "name": "stdout",
          "text": [
            "Peter Roger "
          ]
        }
      ],
      "source": [
        "from collections import deque\n",
        "\n",
        "def FindFriends(G, User, K):\n",
        "  visited, queue = set(), deque([User])   #set visited to empty, put root in the queue\n",
        "  visited.add(User)\n",
        "  levels = {0: []}    #a graph keeping track of all the levels and what friends are in what levels\n",
        "  countPrev = 0\n",
        "  countCurr = countPrev\n",
        "  while queue:\n",
        "    vertex = queue.popleft()\n",
        "    #print(vertex, end=\" \")\n",
        "    if(not(vertex == User)):\n",
        "      if(vertex not in levels[countPrev]):           #keeps track of the level of the current vertex being evaluated\n",
        "        countPrev += 1\n",
        "      if(len(G[vertex]) != 0):                       #ensures that the current vertex's friends get put in the next level\n",
        "        countCurr = countPrev + 1\n",
        "    #create a new level node in levels if the node does not exist\n",
        "    if(countCurr not in levels):\n",
        "      levels[countCurr] = []\n",
        "    #looping to get the connections\n",
        "    for friend in G[vertex]:\n",
        "      if friend not in visited:\n",
        "        visited.add(friend)\n",
        "        queue.append(friend)\n",
        "        levels[countCurr].append(friend)\n",
        "  for friend in levels[K-1]:\n",
        "    print(friend, end = \" \")\n",
        "friends = {\n",
        "    'Richard': [],\n",
        "    'Rob': ['Ken', 'Karen'],\n",
        "    'Bob': ['Richard', 'Rob', 'Pam'],\n",
        "    'Pam': ['Peter', 'Roger'],\n",
        "    'Peter': ['Amy'],\n",
        "    'Roger': ['Anna'],\n",
        "    'Anna': [],\n",
        "    'Amy':[],\n",
        "    'Ken': ['Emily', 'Pam'],\n",
        "    'Karen': [],\n",
        "    'Emily': []\n",
        "}\n",
        "FindFriends(friends, 'Pam', 1)\n",
        "\n"
      ]
    }
  ]
}